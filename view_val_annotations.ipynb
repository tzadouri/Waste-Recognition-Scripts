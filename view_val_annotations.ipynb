{
 "cells": [
  {
   "cell_type": "code",
   "execution_count": 1,
   "metadata": {},
   "outputs": [],
   "source": [
    "import numpy as np\n",
    "import pandas as pd\n",
    "import json\n",
    "import os\n",
    "import shutil"
   ]
  },
  {
   "cell_type": "code",
   "execution_count": 2,
   "metadata": {},
   "outputs": [],
   "source": [
    "with open(\"instances_train-val2014/annotations/instances_val2014.json\") as json_data:\n",
    "    data = json.load(json_data)"
   ]
  },
  {
   "cell_type": "code",
   "execution_count": 3,
   "metadata": {},
   "outputs": [],
   "source": [
    "with open(\"coco.json\") as json_data:\n",
    "    category_id_to_name = json.load(json_data)"
   ]
  },
  {
   "cell_type": "code",
   "execution_count": 11,
   "metadata": {},
   "outputs": [],
   "source": [
    "list_of_ids = [44, 48, 49, 50]"
   ]
  },
  {
   "cell_type": "code",
   "execution_count": 6,
   "metadata": {},
   "outputs": [],
   "source": [
    "id_to_image = {}"
   ]
  },
  {
   "cell_type": "code",
   "execution_count": 7,
   "metadata": {},
   "outputs": [],
   "source": [
    "for i in data[\"images\"]:\n",
    "    id_to_image[i[\"id\"]] = i"
   ]
  },
  {
   "cell_type": "code",
   "execution_count": 9,
   "metadata": {},
   "outputs": [],
   "source": [
    "def convert_to_YOLO(bbox, image_id):\n",
    "    xmin = bbox[0]\n",
    "    ymin = bbox[1]\n",
    "    box_width = bbox[2]\n",
    "    box_height = bbox[3]\n",
    "    \n",
    "    image_info = id_to_image[image_id]\n",
    "    \n",
    "#     print(image_info[\"file_name\"])\n",
    "    \n",
    "    img_width = image_info[\"width\"]\n",
    "    img_height = image_info[\"height\"]\n",
    "    \n",
    "#     print(xmin,ymin,box_width,box_height,img_width,img_height)\n",
    "\n",
    "    new_x = (xmin + box_width/2)/img_width\n",
    "    new_y = (ymin + box_height/2)/img_height\n",
    "    new_width = box_width/img_width\n",
    "    new_height = box_height/img_height\n",
    "    \n",
    "    return (new_x,new_y,new_width,new_height)"
   ]
  },
  {
   "cell_type": "code",
   "execution_count": 12,
   "metadata": {
    "scrolled": true
   },
   "outputs": [
    {
     "name": "stdout",
     "output_type": "stream",
     "text": [
      "0\n"
     ]
    }
   ],
   "source": [
    "num = 0\n",
    "for i in range(len(data[\"annotations\"])):\n",
    "    annotation = data[\"annotations\"][i]\n",
    "    if annotation[\"category_id\"] in list_of_ids:\n",
    "#         num += 1\n",
    "        image_id = annotation[\"image_id\"]\n",
    "        bbox = convert_to_YOLO(annotation[\"bbox\"],image_id)\n",
    "        base_file_name = id_to_image[image_id][\"file_name\"]\n",
    "        \n",
    "        # Save image to drive\n",
    "        image_file_name = \"val2014/\" + base_file_name\n",
    "        shutil.copy(image_file_name, 'YOLO_IMG/')\n",
    "        \n",
    "        # Save annotations\n",
    "        annotation_file_name = base_file_name.replace(\"jpg\",\"txt\")\n",
    "        annotation_file_name = \"YOLO_TXT/\" + annotation_file_name\n",
    "        text = category_id_to_name[str(annotation[\"category_id\"])], str(bbox[0]), str(bbox[1]), str(bbox[2]), str(bbox[3]), '\\n'\n",
    "        text = ' '.join(text)\n",
    "#         print(text)\n",
    "        \n",
    "        f = open(annotation_file_name,'a+')\n",
    "        f.write(text)\n",
    "        f.close()\n",
    "        \n",
    "#         if num == 10:\n",
    "#             break\n",
    "        \n",
    "print(num)"
   ]
  },
  {
   "cell_type": "markdown",
   "metadata": {},
   "source": [
    "**What is inside data**\n",
    "\n",
    "Data is a dictionary the hold 5 values"
   ]
  },
  {
   "cell_type": "code",
   "execution_count": 10,
   "metadata": {},
   "outputs": [
    {
     "name": "stdout",
     "output_type": "stream",
     "text": [
      "info\n",
      "images\n",
      "licenses\n",
      "annotations\n",
      "categories\n"
     ]
    }
   ],
   "source": [
    "for key in data:\n",
    "    print(key)"
   ]
  },
  {
   "cell_type": "code",
   "execution_count": 5,
   "metadata": {},
   "outputs": [
    {
     "name": "stdout",
     "output_type": "stream",
     "text": [
      "Number of images:  40504\n"
     ]
    }
   ],
   "source": [
    "print(\"Number of images: \", len(data[\"images\"]))"
   ]
  },
  {
   "cell_type": "code",
   "execution_count": 43,
   "metadata": {
    "scrolled": true
   },
   "outputs": [
    {
     "name": "stdout",
     "output_type": "stream",
     "text": [
      "license 3\n",
      "\n",
      "file_name COCO_val2014_000000391895.jpg\n",
      "\n",
      "coco_url http://mscoco.org/images/391895\n",
      "\n",
      "height 360\n",
      "\n",
      "width 640\n",
      "\n",
      "date_captured 2013-11-14 11:18:45\n",
      "\n",
      "flickr_url http://farm9.staticflickr.com/8186/8119368305_4e622c8349_z.jpg\n",
      "\n",
      "id 391895\n",
      "\n"
     ]
    }
   ],
   "source": [
    "for k,v in data[\"images\"][0].items():\n",
    "    print(k,v)\n",
    "    print()"
   ]
  },
  {
   "cell_type": "code",
   "execution_count": 26,
   "metadata": {},
   "outputs": [
    {
     "name": "stdout",
     "output_type": "stream",
     "text": [
      "{'license': 4, 'file_name': 'COCO_val2014_000000522418.jpg', 'coco_url': 'http://mscoco.org/images/522418', 'height': 480, 'width': 640, 'date_captured': '2013-11-14 11:38:44', 'flickr_url': 'http://farm1.staticflickr.com/1/127244861_ab0c0381e7_z.jpg', 'id': 522418}\n"
     ]
    }
   ],
   "source": [
    "print(data[\"images\"][1])"
   ]
  },
  {
   "cell_type": "markdown",
   "metadata": {},
   "source": [
    "**Licenses**"
   ]
  },
  {
   "cell_type": "code",
   "execution_count": 31,
   "metadata": {},
   "outputs": [
    {
     "name": "stdout",
     "output_type": "stream",
     "text": [
      "url http://creativecommons.org/licenses/by-nc-sa/2.0/\n",
      "id 1\n",
      "name Attribution-NonCommercial-ShareAlike License\n",
      "\n",
      "url http://creativecommons.org/licenses/by-nc/2.0/\n",
      "id 2\n",
      "name Attribution-NonCommercial License\n",
      "\n",
      "url http://creativecommons.org/licenses/by-nc-nd/2.0/\n",
      "id 3\n",
      "name Attribution-NonCommercial-NoDerivs License\n",
      "\n",
      "url http://creativecommons.org/licenses/by/2.0/\n",
      "id 4\n",
      "name Attribution License\n",
      "\n",
      "url http://creativecommons.org/licenses/by-sa/2.0/\n",
      "id 5\n",
      "name Attribution-ShareAlike License\n",
      "\n",
      "url http://creativecommons.org/licenses/by-nd/2.0/\n",
      "id 6\n",
      "name Attribution-NoDerivs License\n",
      "\n",
      "url http://flickr.com/commons/usage/\n",
      "id 7\n",
      "name No known copyright restrictions\n",
      "\n",
      "url http://www.usa.gov/copyright.shtml\n",
      "id 8\n",
      "name United States Government Work\n",
      "\n"
     ]
    }
   ],
   "source": [
    "for i in range(len(data[\"licenses\"])):\n",
    "    for key,v in data[\"licenses\"][i].items():\n",
    "        print(key,v)\n",
    "    print()"
   ]
  },
  {
   "cell_type": "markdown",
   "metadata": {},
   "source": [
    "**Annotations**\n",
    "\n",
    "List of every individual object annotation.\n",
    "\n",
    "Each element in the list is a dictionary that contains:\n",
    "    <p>segmentation - list of x, y pixel positions</p>\n",
    "    <p>area - area of object</p>\n",
    "    <p>iscrowd - group of objects (0 means single object, 1 means group of objects)</p>\n",
    "    <p>image_id - id of image</p>\n",
    "    <p>bbox - [x,y,width,height] (x,y is top left) (width, height is of bounding box)</p>\n",
    "    <p>category_id - id of category that the object belongs to</p>"
   ]
  },
  {
   "cell_type": "code",
   "execution_count": 8,
   "metadata": {},
   "outputs": [
    {
     "name": "stdout",
     "output_type": "stream",
     "text": [
      "Length of annotations:  291875\n"
     ]
    }
   ],
   "source": [
    "print(\"Length of annotations: \", len(data[\"annotations\"]))"
   ]
  },
  {
   "cell_type": "code",
   "execution_count": 18,
   "metadata": {},
   "outputs": [
    {
     "name": "stdout",
     "output_type": "stream",
     "text": [
      "{'segmentation': [[239.97, 260.24, 222.04, 270.49, 199.84, 253.41, 213.5, 227.79, 259.62, 200.46, 274.13, 202.17, 277.55, 210.71, 249.37, 253.41, 237.41, 264.51, 242.54, 261.95, 228.87, 271.34]], 'area': 2765.1486500000005, 'iscrowd': 0, 'image_id': 558840, 'bbox': [199.84, 200.46, 77.71, 70.88], 'category_id': 58, 'id': 156}\n"
     ]
    }
   ],
   "source": [
    "print(data[\"annotations\"][0])"
   ]
  },
  {
   "cell_type": "code",
   "execution_count": 75,
   "metadata": {},
   "outputs": [
    {
     "name": "stdout",
     "output_type": "stream",
     "text": [
      "segmentation [[240.08, 372.58, 240.08, 396.78, 238.39, 414.23, 237.83, 419.29, 219.26, 418.73, 219.26, 409.16, 215.32, 410.29, 210.81, 417.04, 208.56, 419.86, 188.86, 419.29, 179.3, 420.42, 168.04, 422.11, 157.35, 416.48, 142.15, 418.73, 135.96, 423.23, 128.65, 410.29, 133.15, 407.47, 118.52, 410.29, 110.64, 410.29, 103.32, 404.66, 111.2, 393.97, 121.33, 396.22, 132.59, 401.85, 135.96, 401.28, 146.66, 388.34, 157.35, 372.02, 163.54, 356.82, 173.11, 370.89, 182.11, 374.83, 186.61, 384.96, 192.8, 380.46, 200.68, 370.89, 202.93, 361.89, 197.87, 355.14, 189.43, 351.76, 182.67, 347.26, 177.05, 340.5, 181.55, 333.75, 188.3, 327.0, 200.12, 323.62, 205.19, 315.18, 212.5, 305.05, 215.88, 299.98, 215.88, 298.86, 213.06, 290.98, 215.88, 286.48, 220.94, 283.66, 223.19, 285.35, 228.26, 289.29, 231.64, 286.48, 238.39, 286.48, 244.02, 289.29, 249.65, 290.98, 252.46, 293.23, 254.15, 296.04, 259.78, 296.04, 263.71, 296.04, 268.22, 296.04, 272.72, 301.67, 273.84, 307.3, 271.03, 314.05, 269.34, 315.18, 266.53, 315.74, 259.78, 321.93, 253.02, 322.49, 249.65, 326.43, 248.52, 328.68, 248.52, 330.94, 248.52, 333.19, 247.96, 335.44, 246.27, 341.63, 243.45, 345.57, 242.89, 346.13, 237.26, 348.94, 232.2, 355.14, 233.32, 360.2, 236.7, 365.83, 238.39, 369.21, 241.77, 372.58, 241.77, 372.58]] \n",
      "\n",
      "area 9354.22835 \n",
      "\n",
      "iscrowd 0 \n",
      "\n",
      "image_id 357542 \n",
      "\n",
      "bbox [103.32, 283.66, 170.52, 139.57] \n",
      "\n",
      "category_id 18 \n",
      "\n",
      "id 9417 \n",
      "\n"
     ]
    }
   ],
   "source": [
    "for k,v in data[\"annotations\"][100].items():\n",
    "    print(k,v,'\\n')"
   ]
  },
  {
   "cell_type": "code",
   "execution_count": 83,
   "metadata": {},
   "outputs": [
    {
     "name": "stdout",
     "output_type": "stream",
     "text": [
      "COCO_val2014_000000357542.jpg\n",
      "dog (0.392058212058212, 0.5522578125000001, 0.3545114345114345, 0.21807812499999998)\n"
     ]
    }
   ],
   "source": [
    "annotation = data[\"annotations\"][100]\n",
    "bbox = convert_to_YOLO(annotation[\"bbox\"], annotation[\"image_id\"])\n",
    "print(category_id_to_name[str(annotation[\"category_id\"])], bbox)"
   ]
  },
  {
   "cell_type": "code",
   "execution_count": null,
   "metadata": {},
   "outputs": [],
   "source": []
  }
 ],
 "metadata": {
  "kernelspec": {
   "display_name": "Python 3",
   "language": "python",
   "name": "python3"
  },
  "language_info": {
   "codemirror_mode": {
    "name": "ipython",
    "version": 3
   },
   "file_extension": ".py",
   "mimetype": "text/x-python",
   "name": "python",
   "nbconvert_exporter": "python",
   "pygments_lexer": "ipython3",
   "version": "3.7.4"
  }
 },
 "nbformat": 4,
 "nbformat_minor": 2
}
