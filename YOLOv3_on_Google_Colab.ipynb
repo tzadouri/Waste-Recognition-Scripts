{
  "nbformat": 4,
  "nbformat_minor": 0,
  "metadata": {
    "colab": {
      "name": "YOLOv3 on Google Colab",
      "provenance": []
    },
    "kernelspec": {
      "name": "python3",
      "display_name": "Python 3"
    }
  },
  "cells": [
    {
      "cell_type": "markdown",
      "metadata": {
        "id": "3VEMAkp6MpEl",
        "colab_type": "text"
      },
      "source": [
        "#**Using Google Colab to train YOLOv3**"
      ]
    },
    {
      "cell_type": "markdown",
      "metadata": {
        "id": "eewiOGG_NWdI",
        "colab_type": "text"
      },
      "source": [
        "## **Mount Google Drive**"
      ]
    },
    {
      "cell_type": "code",
      "metadata": {
        "id": "k0ah-rjXNTCF",
        "colab_type": "code",
        "colab": {}
      },
      "source": [
        "from google.colab import drive\n",
        "drive.mount(\"/content/drive/\")"
      ],
      "execution_count": 0,
      "outputs": []
    },
    {
      "cell_type": "markdown",
      "metadata": {
        "id": "0HS1aWoeN7mu",
        "colab_type": "text"
      },
      "source": [
        "## **Download darknet to your drive**"
      ]
    },
    {
      "cell_type": "code",
      "metadata": {
        "id": "3ujWhQetOL_U",
        "colab_type": "code",
        "colab": {}
      },
      "source": [
        "%cd \"drive/My Drive\""
      ],
      "execution_count": 0,
      "outputs": []
    },
    {
      "cell_type": "code",
      "metadata": {
        "id": "FXyuKvI9OViW",
        "colab_type": "code",
        "colab": {}
      },
      "source": [
        "# After you install once, you do not need to do it again. Comment our this line or delete this cell\n",
        "!git clone https://github.com/pjreddie/darknet"
      ],
      "execution_count": 0,
      "outputs": []
    },
    {
      "cell_type": "markdown",
      "metadata": {
        "id": "RWamXVQfPTTf",
        "colab_type": "text"
      },
      "source": [
        "## **Download NVIDIA cuDNN**\n",
        "\n",
        "You will need to sign in with an account.\n",
        "\n",
        "https://developer.nvidia.com/compute/machine-learning/cudnn/secure/v7.5.0.56/prod/10.0_20190219/cudnn-10.0-linux-x64-v7.5.0.56.tgz"
      ]
    },
    {
      "cell_type": "markdown",
      "metadata": {
        "id": "SmDOmSfRQU_v",
        "colab_type": "text"
      },
      "source": [
        "After you download the file, go to the darknet folder in your Google Drive and create a folder called cuDNN and upload the .tgz file you just downloaded to the folder. Run the command below to install the software needed for GPU acceleration.\n",
        "\n",
        "To have YOLOv3 use the GPU, edit the Makefile in the darknet folder and set GPU=1. (Should be the first line of the file)"
      ]
    },
    {
      "cell_type": "code",
      "metadata": {
        "id": "aV37O546Rgot",
        "colab_type": "code",
        "outputId": "0a6953ab-88f4-4906-b5ff-46908e023d04",
        "colab": {
          "base_uri": "https://localhost:8080/",
          "height": 34
        }
      },
      "source": [
        "%cd darknet"
      ],
      "execution_count": 0,
      "outputs": [
        {
          "output_type": "stream",
          "text": [
            "/content/drive/My Drive/darknet\n"
          ],
          "name": "stdout"
        }
      ]
    },
    {
      "cell_type": "code",
      "metadata": {
        "id": "UrX-tpi8PEQn",
        "colab_type": "code",
        "colab": {}
      },
      "source": [
        "!tar -xzvf cuDNN/cudnn-10.0-linux-x64-v7.5.0.56.tgz -C /usr/local/\n",
        "!chmod a+r /usr/local/cuda/include/cudnn.h"
      ],
      "execution_count": 0,
      "outputs": []
    },
    {
      "cell_type": "markdown",
      "metadata": {
        "id": "gKtV5G53Rr1m",
        "colab_type": "text"
      },
      "source": [
        "#**Compile the code**\n",
        "\n",
        "Everytime you reset the notebook or stop the training, you will need to clean and recompile. There will be a lot of gcc print outs."
      ]
    },
    {
      "cell_type": "code",
      "metadata": {
        "id": "WK0payLrSAci",
        "colab_type": "code",
        "colab": {}
      },
      "source": [
        "!make clean\n",
        "!make"
      ],
      "execution_count": 0,
      "outputs": []
    },
    {
      "cell_type": "markdown",
      "metadata": {
        "id": "xLsGBiWmYHAy",
        "colab_type": "text"
      },
      "source": [
        "#**Test darknet**"
      ]
    },
    {
      "cell_type": "markdown",
      "metadata": {
        "id": "wh5p5qvAYRDk",
        "colab_type": "text"
      },
      "source": [
        "Download pretrained weights"
      ]
    },
    {
      "cell_type": "code",
      "metadata": {
        "id": "yKuI3UcDSsVY",
        "colab_type": "code",
        "colab": {}
      },
      "source": [
        "!wget https://pjreddie.com/media/files/yolov3.weights"
      ],
      "execution_count": 0,
      "outputs": []
    },
    {
      "cell_type": "markdown",
      "metadata": {
        "id": "sVRyejWLYghI",
        "colab_type": "text"
      },
      "source": [
        "Test the detector. This may take a few minutes."
      ]
    },
    {
      "cell_type": "code",
      "metadata": {
        "id": "iS-LADH6YYRR",
        "colab_type": "code",
        "colab": {}
      },
      "source": [
        "!./darknet detect cfg/yolov3.cfg yolov3.weights data/dog.jpg"
      ],
      "execution_count": 0,
      "outputs": []
    },
    {
      "cell_type": "markdown",
      "metadata": {
        "id": "mJuXSnTtYip-",
        "colab_type": "text"
      },
      "source": [
        "After is is done, you can check the results in predictions.jpg"
      ]
    },
    {
      "cell_type": "markdown",
      "metadata": {
        "id": "9M8nNKq9dOwV",
        "colab_type": "text"
      },
      "source": [
        "#**Train Test Split**\n",
        "\n",
        "In order to start training, we need to split our data into a training set and a testing set. Put your data folder within the data folder inside of darknet. When you run the script below, it will ask for a directory.\n",
        "\n",
        "Ex. Directory: data/{your_data_folder_here}"
      ]
    },
    {
      "cell_type": "code",
      "metadata": {
        "id": "wj6-focQYd4X",
        "colab_type": "code",
        "colab": {}
      },
      "source": [
        "import os\n",
        "\n",
        "# Data Directory\n",
        "obj_dir = input(\"Directory: \")\n",
        "\n",
        "# Get Number of Files in Directory\n",
        "file_list = [file for file in os.listdir(obj_dir)]\n",
        "num_files = len(file_list) / 2\n",
        "\n",
        "# Percentage of images to be used for the test set\n",
        "percentage = 0.25;\n",
        "\n",
        "# Get nth image as test file\n",
        "n_test = round(num_files/(num_files*percentage))\n",
        "\n",
        "# Create and/or truncate train.txt and test.txt\n",
        "train = open('train.txt', 'w')  \n",
        "test = open('test.txt', 'w')\n",
        "\n",
        "for i in enumerate(file_list):\n",
        "    if(i[1].endswith(\".jpg\")):\n",
        "        file_name = obj_dir + '/' + i[1] + '\\n'\n",
        "        text_version = file_name.replace(\".jpg\\n\",\".txt\")\n",
        "        if(os.path.exists(text_version)):          \n",
        "          if i[0] % n_test == 0:\n",
        "              test.write(file_name)\n",
        "          else:\n",
        "              train.write(file_name)\n",
        "        else:\n",
        "          # These are the files that do not have an annotation file\n",
        "          print(file_name)\n",
        "\n",
        "train.close()\n",
        "test.close()\n",
        "print(\"DONE\")"
      ],
      "execution_count": 0,
      "outputs": []
    },
    {
      "cell_type": "markdown",
      "metadata": {
        "id": "IGDBsJWYA8Gb",
        "colab_type": "text"
      },
      "source": [
        "# **Training Time**\n",
        "\n",
        "If you are training a custom model, you will need to create a obj.data file which contains the number of classes and path to train.txt, test.txt, obj.names, and backup folder. You will also need to create a obj.names file which contains the name of the objects you are trying to train. If you are training from scratch, you will need to download the darknet53.conv.74 weights with \"!wget https://pjreddie.com/media/files/darknet53.conv.74\". If you want to continue training, put the most recent weights instead of the darknet53.conv.74 weights.\n",
        "\n",
        "Ex. ./darknet detector train obj.data cfg/obj.cfg backup/{your_most_recent_weights_here}\n",
        "\n",
        "IMPORTANT\n",
        "\n",
        "If you are training new objects, train from scratch (use darknet53.conv.74 weights)\n",
        "\n",
        "If training is really slow, make sure your GPU is enabled."
      ]
    },
    {
      "cell_type": "code",
      "metadata": {
        "id": "XcnHA586hWNs",
        "colab_type": "code",
        "colab": {}
      },
      "source": [
        "!dos2unix cfg/obj.cfg\n",
        "!dos2unix obj.data\n",
        "!dos2unix obj.names"
      ],
      "execution_count": 0,
      "outputs": []
    },
    {
      "cell_type": "code",
      "metadata": {
        "id": "hMiU984fFd7M",
        "colab_type": "code",
        "colab": {}
      },
      "source": [
        "!./darknet detector train obj.data cfg/obj.cfg darknet53.conv.74"
      ],
      "execution_count": 0,
      "outputs": []
    },
    {
      "cell_type": "markdown",
      "metadata": {
        "id": "TNBdTxvyGH1N",
        "colab_type": "text"
      },
      "source": [
        "# **Common Problems**\n",
        "\n",
        "Note: I am writing these off the top of my head, I do not remember the exact errors.\n",
        "\n",
        "1. Assert 0 error. Run dos2unix on your cfg file to fix it.\n",
        "2. Couldn't open train.txt or test.txt. Run dos2unix to fix it. Dos2unix every file you transfer from Windows.\n",
        "3. Cannot run bash commands. It's probably cuz you stopped YOLO while it was running. Reset runtime, clean, make.\n",
        "4. Testing dog.jpg takes too long, just wait, it may take a few minutes, possibly due to uploading the weights to the VM.\n",
        "5. Mounting Drive issues, reset runtime and try again.\n",
        "6. Notebook crashed, Google has a time limit of 12 hrs (supposedly), but it may crash sooner, hence why it's important to keep backups.\n",
        "7. If GPU is enabled, and training is still slow, make sure the Makefile has GPU=1. Reset runtime, clean, make.\n",
        "\n",
        "Useful Links:\n",
        "https://github.com/AlexeyAB/darknet/#how-to-train-to-detect-your-custom-objects"
      ]
    },
    {
      "cell_type": "code",
      "metadata": {
        "id": "bMueuWOiGRBU",
        "colab_type": "code",
        "colab": {}
      },
      "source": [
        ""
      ],
      "execution_count": 0,
      "outputs": []
    }
  ]
}